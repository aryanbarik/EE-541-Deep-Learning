{
 "cells": [
  {
   "cell_type": "markdown",
   "metadata": {},
   "source": [
    "# Problem 2\n",
    "Define the random variable N = min {n :\n",
    "Pn\n",
    "i=1 Xi > 4} as the smallest number of standard\n",
    "uniform random samples whose sum exceeds four. Generate a histogram using 100, 1000, and\n",
    "10000 realizations of N. Comment on the expected value E[N]."
   ]
  },
  {
   "cell_type": "code",
   "execution_count": 2,
   "metadata": {},
   "outputs": [],
   "source": [
    "import random"
   ]
  },
  {
   "cell_type": "code",
   "execution_count": 15,
   "metadata": {},
   "outputs": [],
   "source": [
    "def get_n():\n",
    "    x = 0\n",
    "    n = 0\n",
    "    \n",
    "    while(x < 4):\n",
    "        n += 1\n",
    "        x += random.uniform(0,1)\n",
    "    \n",
    "    return n"
   ]
  }
 ],
 "metadata": {
  "kernelspec": {
   "display_name": "ee541_work",
   "language": "python",
   "name": "python3"
  },
  "language_info": {
   "codemirror_mode": {
    "name": "ipython",
    "version": 3
   },
   "file_extension": ".py",
   "mimetype": "text/x-python",
   "name": "python",
   "nbconvert_exporter": "python",
   "pygments_lexer": "ipython3",
   "version": "3.11.4"
  },
  "orig_nbformat": 4
 },
 "nbformat": 4,
 "nbformat_minor": 2
}
