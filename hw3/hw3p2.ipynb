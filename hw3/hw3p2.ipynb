{
 "cells": [
  {
   "cell_type": "code",
   "execution_count": 33,
   "metadata": {},
   "outputs": [],
   "source": [
    "import h5py\n",
    "import numpy as np\n",
    "import matplotlib.pyplot as plt "
   ]
  },
  {
   "cell_type": "code",
   "execution_count": 34,
   "metadata": {},
   "outputs": [],
   "source": [
    "DEBUG = False\n",
    "DATA_FNAME = 'aryan_barik_hw1_1.hd5'\n",
    "\n",
    "if DEBUG:\n",
    "    num_sequences = 3\n",
    "    sequence_length = 4\n",
    "else:\n",
    "    num_sequences = 25\n",
    "    sequence_length = 20"
   ]
  },
  {
   "cell_type": "code",
   "execution_count": 35,
   "metadata": {},
   "outputs": [],
   "source": [
    "x_list = [\n",
    "    [0, 1, 0, 1, 1, 1, 0, 1, 1, 0, 1, 0, 1, 1, 1, 0, 1, 0, 1, 0],\n",
    "    [0, 0, 1, 0, 1, 0, 1, 1, 1, 1, 0, 0, 0, 0, 0, 0, 0, 0, 0, 1],\n",
    "    [0, 0, 0, 0, 1, 1, 0, 1, 0, 1, 0, 1, 0, 1, 0, 1, 0, 1, 0, 1],\n",
    "    [1,1,1,1,1,0,0,0,0,1,0,1,0,1,1,0,1,0,1,0],\n",
    "    [1,0,1,0,1,1,1,1,0,0,0,1,0,1,0,1,0,1,0,1],\n",
    "    [1,0,0,0,0,0,0,1,0,1,1,1,0,1,0,1,1,0,1,0],\n",
    "    [0,0,0,1,1,0,1,0,1,0,1,0,1,1,1,0,0,1,0,1],\n",
    "    [1,1,1,0,1,1,0,1,0,1,1,1,0,1,0,0,0,1,0,1],\n",
    "    [0,0,0,0,1,1,1,1,1,0,0,0,1,0,1,0,1,0,0,0],\n",
    "    [0,0,1,1,0,1,1,1,1,0,1,0,1,1,1,1,0,1,0,0],\n",
    "    [0,1,1,1,1,1,1,1,1,1,1,0,1,0,0,0,0,0,0,0],\n",
    "    [0,1,0,1,0,1,0,0,0,0,0,0,1,1,0,1,0,1,0,1],\n",
    "    [1,0,1,0,0,0,0,0,1,1,0,1,0,1,0,1,0,1,0,1],\n",
    "    [0,1,1,1,1,1,1,0,0,0,0,0,0,0,0,1,0,1,0,1],\n",
    "    [0,1,1,1,0,0,0,0,0,0,1,1,1,1,1,0,0,0,1,0],\n",
    "    [1,0,1,1,1,0,0,0,0,1,1,0,1,0,1,0,1,0,1,1],\n",
    "    [0,0,0,1,1,1,0,0,1,0,1,0,1,0,1,1,0,1,0,1],\n",
    "    [0,1,1,1,1,1,0,0,0,0,1,1,0,1,0,1,1,0,1,0],\n",
    "    [0,1,0,1,1,1,0,0,1,0,1,0,1,0,1,0,0,0,1,1],\n",
    "    [1,0,1,1,1,1,0,0,1,1,0,1,0,1,1,0,0,1,1,0],\n",
    "    [0,1,1,0,1,1,0,0,1,0,1,1,1,0,1,0,1,0,1,0],\n",
    "    [0,1,1,1,1,0,0,0,1,0,1,0,1,0,1,0,1,0,1,0],\n",
    "    [0,1,0,1,1,1,0,1,0,1,0,1,0,1,0,1,0,1,0,1],\n",
    "    [0,1,1,1,0,1,1,0,1,0,1,0,1,0,1,0,1,0,1,0],\n",
    "    [0,1,0,1,0,1,0,1,0,0,0,1,1,0,0,0,0,1,1,1]\n",
    "]"
   ]
  },
  {
   "cell_type": "code",
   "execution_count": 36,
   "metadata": {},
   "outputs": [],
   "source": [
    "# Convert list to numpy array\n",
    "human_binary = np.asarray(x_list)"
   ]
  },
  {
   "cell_type": "code",
   "execution_count": 37,
   "metadata": {},
   "outputs": [],
   "source": [
    "### do some error trapping:\n",
    "\n",
    "# This checks that the size of each dimension of the array is correct.\n",
    "# The .shape attribute of a NumPy array returns the size of the array in each dimension\n",
    "# num_sequences is the first dimension and sequence_length is the second one so they are checked\n",
    "# against index [0] and [1] respectively\n",
    "assert human_binary.shape[0] == num_sequences, 'Error: the number of sequences was entered incorrectly'\n",
    "assert human_binary.shape[1] == sequence_length, 'Error: the length of the seqeunces is incorrect'"
   ]
  },
  {
   "cell_type": "code",
   "execution_count": 38,
   "metadata": {},
   "outputs": [],
   "source": [
    "# the with statement opens the file, does the business, and close it up for us...\n",
    "with h5py.File(DATA_FNAME, 'w') as hf:\n",
    "    hf.create_dataset('human_binary', data = human_binary)\n",
    "    ## note you can write several data arrays into one hd5 file, just give each a different name."
   ]
  },
  {
   "cell_type": "code",
   "execution_count": 39,
   "metadata": {},
   "outputs": [],
   "source": [
    "###################\n",
    "# Let's read it back from the file and then check to make sure it is as we wrote...\n",
    "with h5py.File(DATA_FNAME, 'r') as hf:\n",
    "    hb_copy = hf['human_binary'][:]"
   ]
  },
  {
   "cell_type": "code",
   "execution_count": 40,
   "metadata": {},
   "outputs": [],
   "source": [
    "### this will throw and error if they are not the same...\n",
    "np.testing.assert_array_equal(human_binary, hb_copy)"
   ]
  }
 ],
 "metadata": {
  "kernelspec": {
   "display_name": "ee541_work",
   "language": "python",
   "name": "python3"
  },
  "language_info": {
   "codemirror_mode": {
    "name": "ipython",
    "version": 3
   },
   "file_extension": ".py",
   "mimetype": "text/x-python",
   "name": "python",
   "nbconvert_exporter": "python",
   "pygments_lexer": "ipython3",
   "version": "3.11.4"
  },
  "orig_nbformat": 4
 },
 "nbformat": 4,
 "nbformat_minor": 2
}
