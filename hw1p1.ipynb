{
 "cells": [
  {
   "cell_type": "markdown",
   "metadata": {},
   "source": [
    "# Homework 1\n",
    "### Aryan Barik\n",
    "\n",
    "## 1a"
   ]
  },
  {
   "cell_type": "code",
   "execution_count": 33,
   "metadata": {},
   "outputs": [],
   "source": [
    "import matplotlib\n",
    "import random"
   ]
  },
  {
   "cell_type": "code",
   "execution_count": 34,
   "metadata": {},
   "outputs": [
    {
     "name": "stdout",
     "output_type": "stream",
     "text": [
      "[0.49006770285825774, 0.09140593500266492, 0.03665120652310794, 0.03972319443304406, 0.6965449752087521, 0.3560411200949425, 0.20905163010396888, 0.6934866579247468, 0.45022341604467, 0.38806158633967325, 0.5495169769869457, 0.9155254762335518, 0.952825318150591, 0.4636443563665731, 0.9456492157928551, 0.40079300470881496, 0.2578463686067317, 0.3747502690237917, 0.04991556798378349, 0.6738613621888389, 0.8332544094882355, 0.9499211677907685, 0.949937580205313, 0.18361792824606094, 0.7582457247477165, 0.758837559592786, 0.6188337902729435, 0.13968652166847983, 0.11024723599732722, 0.19981504474036405, 0.5220042658745397, 0.5507819499811951, 0.728040638924025, 0.689011802298648, 0.8364867949961173, 0.3673481462674495, 0.026886806048594725, 0.06400077305361562, 0.23072443124300368, 0.0677662284213223, 0.18560881727926082, 0.02888746647393403, 0.25978744298826983, 0.9069781266687712, 0.42987571316876616, 0.2888366170051082, 0.41696194733397585, 0.2951283892679336, 0.3755367367713308, 0.96009731310535]\n"
     ]
    }
   ],
   "source": [
    "flips = []\n",
    "\n",
    "for i in range(50):\n",
    "    flips.append(random.random())\n",
    "\n",
    "print(flips)\n"
   ]
  },
  {
   "cell_type": "code",
   "execution_count": 35,
   "metadata": {},
   "outputs": [
    {
     "name": "stdout",
     "output_type": "stream",
     "text": [
      "9\n"
     ]
    }
   ],
   "source": [
    "longest_run_heads = 0\n",
    "current_run_heads = 0\n",
    "is_last_flip_heads = False\n",
    "\n",
    "# dont lose greatest value from streak to streak\n",
    "\n",
    "for i in flips:\n",
    "    if i >= 0.30:\n",
    "        if is_last_flip_heads:\n",
    "            current_run_heads += 1\n",
    "        \n",
    "        else:    \n",
    "            is_last_flip_heads = True\n",
    "            current_run_heads = 1\n",
    "\n",
    "    else:\n",
    "        is_last_flip_heads = False\n",
    "        current_run_heads = 0\n",
    "    \n",
    "    if current_run_heads > longest_run_heads:\n",
    "        longest_run_heads = current_run_heads\n",
    "\n",
    "print(longest_run_heads)\n"
   ]
  },
  {
   "cell_type": "markdown",
   "metadata": {},
   "source": [
    "## 1b"
   ]
  }
 ],
 "metadata": {
  "kernelspec": {
   "display_name": "Python 3",
   "language": "python",
   "name": "python3"
  },
  "language_info": {
   "codemirror_mode": {
    "name": "ipython",
    "version": 3
   },
   "file_extension": ".py",
   "mimetype": "text/x-python",
   "name": "python",
   "nbconvert_exporter": "python",
   "pygments_lexer": "ipython3",
   "version": "3.11.4"
  },
  "orig_nbformat": 4
 },
 "nbformat": 4,
 "nbformat_minor": 2
}
